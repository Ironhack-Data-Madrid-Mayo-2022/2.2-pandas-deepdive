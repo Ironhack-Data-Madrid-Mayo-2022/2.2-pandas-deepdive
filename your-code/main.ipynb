{
 "cells": [
  {
   "cell_type": "markdown",
   "metadata": {},
   "source": [
    "# Lab | Pandas Deep-Dive"
   ]
  },
  {
   "cell_type": "markdown",
   "metadata": {},
   "source": [
    "### 1. Import Pandas package under the alias pd and Numpy under the alias np"
   ]
  },
  {
   "cell_type": "code",
   "execution_count": 9,
   "metadata": {},
   "outputs": [],
   "source": [
    "import pandas as pd\n",
    "import numpy as np"
   ]
  },
  {
   "cell_type": "markdown",
   "metadata": {},
   "source": [
    "### 2. Define a variable called `path` that contains the path to the csv file you downloaded. "
   ]
  },
  {
   "cell_type": "code",
   "execution_count": 7,
   "metadata": {
    "scrolled": true
   },
   "outputs": [],
   "source": [
    "path = r'C:\\Users\\jvaym\\Desktop\\IRONHACK\\Semana2\\2.2-pandas-deepdive\\your-code\\data\\apple_store.csv'"
   ]
  },
  {
   "cell_type": "code",
   "execution_count": 12,
   "metadata": {},
   "outputs": [
    {
     "data": {
      "text/html": [
       "<div>\n",
       "<style scoped>\n",
       "    .dataframe tbody tr th:only-of-type {\n",
       "        vertical-align: middle;\n",
       "    }\n",
       "\n",
       "    .dataframe tbody tr th {\n",
       "        vertical-align: top;\n",
       "    }\n",
       "\n",
       "    .dataframe thead th {\n",
       "        text-align: right;\n",
       "    }\n",
       "</style>\n",
       "<table border=\"1\" class=\"dataframe\">\n",
       "  <thead>\n",
       "    <tr style=\"text-align: right;\">\n",
       "      <th></th>\n",
       "      <th>id</th>\n",
       "      <th>track_name</th>\n",
       "      <th>size_bytes</th>\n",
       "      <th>price</th>\n",
       "      <th>rating_count_tot</th>\n",
       "      <th>rating_count_ver</th>\n",
       "      <th>user_rating</th>\n",
       "      <th>user_rating_ver</th>\n",
       "      <th>prime_genre</th>\n",
       "    </tr>\n",
       "  </thead>\n",
       "  <tbody>\n",
       "    <tr>\n",
       "      <th>0</th>\n",
       "      <td>281656475</td>\n",
       "      <td>PAC-MAN Premium</td>\n",
       "      <td>100788224</td>\n",
       "      <td>3.99</td>\n",
       "      <td>21292</td>\n",
       "      <td>26</td>\n",
       "      <td>4.0</td>\n",
       "      <td>4.5</td>\n",
       "      <td>Games</td>\n",
       "    </tr>\n",
       "    <tr>\n",
       "      <th>1</th>\n",
       "      <td>281796108</td>\n",
       "      <td>Evernote - stay organized</td>\n",
       "      <td>158578688</td>\n",
       "      <td>0.00</td>\n",
       "      <td>161065</td>\n",
       "      <td>26</td>\n",
       "      <td>4.0</td>\n",
       "      <td>3.5</td>\n",
       "      <td>Productivity</td>\n",
       "    </tr>\n",
       "    <tr>\n",
       "      <th>2</th>\n",
       "      <td>281940292</td>\n",
       "      <td>WeatherBug - Local Weather, Radar, Maps, Alerts</td>\n",
       "      <td>100524032</td>\n",
       "      <td>0.00</td>\n",
       "      <td>188583</td>\n",
       "      <td>2822</td>\n",
       "      <td>3.5</td>\n",
       "      <td>4.5</td>\n",
       "      <td>Weather</td>\n",
       "    </tr>\n",
       "    <tr>\n",
       "      <th>3</th>\n",
       "      <td>282614216</td>\n",
       "      <td>eBay: Best App to Buy, Sell, Save! Online Shop...</td>\n",
       "      <td>128512000</td>\n",
       "      <td>0.00</td>\n",
       "      <td>262241</td>\n",
       "      <td>649</td>\n",
       "      <td>4.0</td>\n",
       "      <td>4.5</td>\n",
       "      <td>Shopping</td>\n",
       "    </tr>\n",
       "    <tr>\n",
       "      <th>4</th>\n",
       "      <td>282935706</td>\n",
       "      <td>Bible</td>\n",
       "      <td>92774400</td>\n",
       "      <td>0.00</td>\n",
       "      <td>985920</td>\n",
       "      <td>5320</td>\n",
       "      <td>4.5</td>\n",
       "      <td>5.0</td>\n",
       "      <td>Reference</td>\n",
       "    </tr>\n",
       "    <tr>\n",
       "      <th>...</th>\n",
       "      <td>...</td>\n",
       "      <td>...</td>\n",
       "      <td>...</td>\n",
       "      <td>...</td>\n",
       "      <td>...</td>\n",
       "      <td>...</td>\n",
       "      <td>...</td>\n",
       "      <td>...</td>\n",
       "      <td>...</td>\n",
       "    </tr>\n",
       "    <tr>\n",
       "      <th>7192</th>\n",
       "      <td>1187617475</td>\n",
       "      <td>Kubik</td>\n",
       "      <td>126644224</td>\n",
       "      <td>0.00</td>\n",
       "      <td>142</td>\n",
       "      <td>75</td>\n",
       "      <td>4.5</td>\n",
       "      <td>4.5</td>\n",
       "      <td>Games</td>\n",
       "    </tr>\n",
       "    <tr>\n",
       "      <th>7193</th>\n",
       "      <td>1187682390</td>\n",
       "      <td>VR Roller-Coaster</td>\n",
       "      <td>120760320</td>\n",
       "      <td>0.00</td>\n",
       "      <td>30</td>\n",
       "      <td>30</td>\n",
       "      <td>4.5</td>\n",
       "      <td>4.5</td>\n",
       "      <td>Games</td>\n",
       "    </tr>\n",
       "    <tr>\n",
       "      <th>7194</th>\n",
       "      <td>1187779532</td>\n",
       "      <td>Bret Michaels Emojis + Lyric Keyboard</td>\n",
       "      <td>111322112</td>\n",
       "      <td>1.99</td>\n",
       "      <td>15</td>\n",
       "      <td>0</td>\n",
       "      <td>4.5</td>\n",
       "      <td>0.0</td>\n",
       "      <td>Utilities</td>\n",
       "    </tr>\n",
       "    <tr>\n",
       "      <th>7195</th>\n",
       "      <td>1187838770</td>\n",
       "      <td>VR Roller Coaster World - Virtual Reality</td>\n",
       "      <td>97235968</td>\n",
       "      <td>0.00</td>\n",
       "      <td>85</td>\n",
       "      <td>32</td>\n",
       "      <td>4.5</td>\n",
       "      <td>4.5</td>\n",
       "      <td>Games</td>\n",
       "    </tr>\n",
       "    <tr>\n",
       "      <th>7196</th>\n",
       "      <td>1188375727</td>\n",
       "      <td>Escape the Sweet Shop Series</td>\n",
       "      <td>90898432</td>\n",
       "      <td>0.00</td>\n",
       "      <td>3</td>\n",
       "      <td>3</td>\n",
       "      <td>5.0</td>\n",
       "      <td>5.0</td>\n",
       "      <td>Games</td>\n",
       "    </tr>\n",
       "  </tbody>\n",
       "</table>\n",
       "<p>7197 rows × 9 columns</p>\n",
       "</div>"
      ],
      "text/plain": [
       "              id                                         track_name  \\\n",
       "0      281656475                                    PAC-MAN Premium   \n",
       "1      281796108                          Evernote - stay organized   \n",
       "2      281940292    WeatherBug - Local Weather, Radar, Maps, Alerts   \n",
       "3      282614216  eBay: Best App to Buy, Sell, Save! Online Shop...   \n",
       "4      282935706                                              Bible   \n",
       "...          ...                                                ...   \n",
       "7192  1187617475                                              Kubik   \n",
       "7193  1187682390                                  VR Roller-Coaster   \n",
       "7194  1187779532              Bret Michaels Emojis + Lyric Keyboard   \n",
       "7195  1187838770          VR Roller Coaster World - Virtual Reality   \n",
       "7196  1188375727                       Escape the Sweet Shop Series   \n",
       "\n",
       "      size_bytes  price  rating_count_tot  rating_count_ver  user_rating  \\\n",
       "0      100788224   3.99             21292                26          4.0   \n",
       "1      158578688   0.00            161065                26          4.0   \n",
       "2      100524032   0.00            188583              2822          3.5   \n",
       "3      128512000   0.00            262241               649          4.0   \n",
       "4       92774400   0.00            985920              5320          4.5   \n",
       "...          ...    ...               ...               ...          ...   \n",
       "7192   126644224   0.00               142                75          4.5   \n",
       "7193   120760320   0.00                30                30          4.5   \n",
       "7194   111322112   1.99                15                 0          4.5   \n",
       "7195    97235968   0.00                85                32          4.5   \n",
       "7196    90898432   0.00                 3                 3          5.0   \n",
       "\n",
       "      user_rating_ver   prime_genre  \n",
       "0                 4.5         Games  \n",
       "1                 3.5  Productivity  \n",
       "2                 4.5       Weather  \n",
       "3                 4.5      Shopping  \n",
       "4                 5.0     Reference  \n",
       "...               ...           ...  \n",
       "7192              4.5         Games  \n",
       "7193              4.5         Games  \n",
       "7194              0.0     Utilities  \n",
       "7195              4.5         Games  \n",
       "7196              5.0         Games  \n",
       "\n",
       "[7197 rows x 9 columns]"
      ]
     },
     "execution_count": 12,
     "metadata": {},
     "output_type": "execute_result"
    }
   ],
   "source": []
  },
  {
   "cell_type": "markdown",
   "metadata": {},
   "source": [
    "### 3. Using the Pandas `read_csv()` method, import the csv file at the path above. \n",
    "\n",
    "Assign the returned value to a variable called `data`.\n",
    "\n",
    "Note: you can omit the `sep` parameter for `read_csv()` because the csv file uses the default separator of \",\"."
   ]
  },
  {
   "cell_type": "code",
   "execution_count": 13,
   "metadata": {},
   "outputs": [
    {
     "data": {
      "text/html": [
       "<div>\n",
       "<style scoped>\n",
       "    .dataframe tbody tr th:only-of-type {\n",
       "        vertical-align: middle;\n",
       "    }\n",
       "\n",
       "    .dataframe tbody tr th {\n",
       "        vertical-align: top;\n",
       "    }\n",
       "\n",
       "    .dataframe thead th {\n",
       "        text-align: right;\n",
       "    }\n",
       "</style>\n",
       "<table border=\"1\" class=\"dataframe\">\n",
       "  <thead>\n",
       "    <tr style=\"text-align: right;\">\n",
       "      <th></th>\n",
       "      <th>id</th>\n",
       "      <th>track_name</th>\n",
       "      <th>size_bytes</th>\n",
       "      <th>price</th>\n",
       "      <th>rating_count_tot</th>\n",
       "      <th>rating_count_ver</th>\n",
       "      <th>user_rating</th>\n",
       "      <th>user_rating_ver</th>\n",
       "      <th>prime_genre</th>\n",
       "    </tr>\n",
       "  </thead>\n",
       "  <tbody>\n",
       "    <tr>\n",
       "      <th>0</th>\n",
       "      <td>281656475</td>\n",
       "      <td>PAC-MAN Premium</td>\n",
       "      <td>100788224</td>\n",
       "      <td>3.99</td>\n",
       "      <td>21292</td>\n",
       "      <td>26</td>\n",
       "      <td>4.0</td>\n",
       "      <td>4.5</td>\n",
       "      <td>Games</td>\n",
       "    </tr>\n",
       "    <tr>\n",
       "      <th>1</th>\n",
       "      <td>281796108</td>\n",
       "      <td>Evernote - stay organized</td>\n",
       "      <td>158578688</td>\n",
       "      <td>0.00</td>\n",
       "      <td>161065</td>\n",
       "      <td>26</td>\n",
       "      <td>4.0</td>\n",
       "      <td>3.5</td>\n",
       "      <td>Productivity</td>\n",
       "    </tr>\n",
       "    <tr>\n",
       "      <th>2</th>\n",
       "      <td>281940292</td>\n",
       "      <td>WeatherBug - Local Weather, Radar, Maps, Alerts</td>\n",
       "      <td>100524032</td>\n",
       "      <td>0.00</td>\n",
       "      <td>188583</td>\n",
       "      <td>2822</td>\n",
       "      <td>3.5</td>\n",
       "      <td>4.5</td>\n",
       "      <td>Weather</td>\n",
       "    </tr>\n",
       "    <tr>\n",
       "      <th>3</th>\n",
       "      <td>282614216</td>\n",
       "      <td>eBay: Best App to Buy, Sell, Save! Online Shop...</td>\n",
       "      <td>128512000</td>\n",
       "      <td>0.00</td>\n",
       "      <td>262241</td>\n",
       "      <td>649</td>\n",
       "      <td>4.0</td>\n",
       "      <td>4.5</td>\n",
       "      <td>Shopping</td>\n",
       "    </tr>\n",
       "    <tr>\n",
       "      <th>4</th>\n",
       "      <td>282935706</td>\n",
       "      <td>Bible</td>\n",
       "      <td>92774400</td>\n",
       "      <td>0.00</td>\n",
       "      <td>985920</td>\n",
       "      <td>5320</td>\n",
       "      <td>4.5</td>\n",
       "      <td>5.0</td>\n",
       "      <td>Reference</td>\n",
       "    </tr>\n",
       "    <tr>\n",
       "      <th>...</th>\n",
       "      <td>...</td>\n",
       "      <td>...</td>\n",
       "      <td>...</td>\n",
       "      <td>...</td>\n",
       "      <td>...</td>\n",
       "      <td>...</td>\n",
       "      <td>...</td>\n",
       "      <td>...</td>\n",
       "      <td>...</td>\n",
       "    </tr>\n",
       "    <tr>\n",
       "      <th>7192</th>\n",
       "      <td>1187617475</td>\n",
       "      <td>Kubik</td>\n",
       "      <td>126644224</td>\n",
       "      <td>0.00</td>\n",
       "      <td>142</td>\n",
       "      <td>75</td>\n",
       "      <td>4.5</td>\n",
       "      <td>4.5</td>\n",
       "      <td>Games</td>\n",
       "    </tr>\n",
       "    <tr>\n",
       "      <th>7193</th>\n",
       "      <td>1187682390</td>\n",
       "      <td>VR Roller-Coaster</td>\n",
       "      <td>120760320</td>\n",
       "      <td>0.00</td>\n",
       "      <td>30</td>\n",
       "      <td>30</td>\n",
       "      <td>4.5</td>\n",
       "      <td>4.5</td>\n",
       "      <td>Games</td>\n",
       "    </tr>\n",
       "    <tr>\n",
       "      <th>7194</th>\n",
       "      <td>1187779532</td>\n",
       "      <td>Bret Michaels Emojis + Lyric Keyboard</td>\n",
       "      <td>111322112</td>\n",
       "      <td>1.99</td>\n",
       "      <td>15</td>\n",
       "      <td>0</td>\n",
       "      <td>4.5</td>\n",
       "      <td>0.0</td>\n",
       "      <td>Utilities</td>\n",
       "    </tr>\n",
       "    <tr>\n",
       "      <th>7195</th>\n",
       "      <td>1187838770</td>\n",
       "      <td>VR Roller Coaster World - Virtual Reality</td>\n",
       "      <td>97235968</td>\n",
       "      <td>0.00</td>\n",
       "      <td>85</td>\n",
       "      <td>32</td>\n",
       "      <td>4.5</td>\n",
       "      <td>4.5</td>\n",
       "      <td>Games</td>\n",
       "    </tr>\n",
       "    <tr>\n",
       "      <th>7196</th>\n",
       "      <td>1188375727</td>\n",
       "      <td>Escape the Sweet Shop Series</td>\n",
       "      <td>90898432</td>\n",
       "      <td>0.00</td>\n",
       "      <td>3</td>\n",
       "      <td>3</td>\n",
       "      <td>5.0</td>\n",
       "      <td>5.0</td>\n",
       "      <td>Games</td>\n",
       "    </tr>\n",
       "  </tbody>\n",
       "</table>\n",
       "<p>7197 rows × 9 columns</p>\n",
       "</div>"
      ],
      "text/plain": [
       "              id                                         track_name  \\\n",
       "0      281656475                                    PAC-MAN Premium   \n",
       "1      281796108                          Evernote - stay organized   \n",
       "2      281940292    WeatherBug - Local Weather, Radar, Maps, Alerts   \n",
       "3      282614216  eBay: Best App to Buy, Sell, Save! Online Shop...   \n",
       "4      282935706                                              Bible   \n",
       "...          ...                                                ...   \n",
       "7192  1187617475                                              Kubik   \n",
       "7193  1187682390                                  VR Roller-Coaster   \n",
       "7194  1187779532              Bret Michaels Emojis + Lyric Keyboard   \n",
       "7195  1187838770          VR Roller Coaster World - Virtual Reality   \n",
       "7196  1188375727                       Escape the Sweet Shop Series   \n",
       "\n",
       "      size_bytes  price  rating_count_tot  rating_count_ver  user_rating  \\\n",
       "0      100788224   3.99             21292                26          4.0   \n",
       "1      158578688   0.00            161065                26          4.0   \n",
       "2      100524032   0.00            188583              2822          3.5   \n",
       "3      128512000   0.00            262241               649          4.0   \n",
       "4       92774400   0.00            985920              5320          4.5   \n",
       "...          ...    ...               ...               ...          ...   \n",
       "7192   126644224   0.00               142                75          4.5   \n",
       "7193   120760320   0.00                30                30          4.5   \n",
       "7194   111322112   1.99                15                 0          4.5   \n",
       "7195    97235968   0.00                85                32          4.5   \n",
       "7196    90898432   0.00                 3                 3          5.0   \n",
       "\n",
       "      user_rating_ver   prime_genre  \n",
       "0                 4.5         Games  \n",
       "1                 3.5  Productivity  \n",
       "2                 4.5       Weather  \n",
       "3                 4.5      Shopping  \n",
       "4                 5.0     Reference  \n",
       "...               ...           ...  \n",
       "7192              4.5         Games  \n",
       "7193              4.5         Games  \n",
       "7194              0.0     Utilities  \n",
       "7195              4.5         Games  \n",
       "7196              5.0         Games  \n",
       "\n",
       "[7197 rows x 9 columns]"
      ]
     },
     "execution_count": 13,
     "metadata": {},
     "output_type": "execute_result"
    }
   ],
   "source": [
    "data = pd.read_csv(path)\n",
    "data"
   ]
  },
  {
   "cell_type": "markdown",
   "metadata": {},
   "source": [
    "### 4. Print the first 5 rows of `data` to see what the data look like.\n",
    "\n",
    "A data analyst usually does this to have a general understanding about what the data look like before digging deep."
   ]
  },
  {
   "cell_type": "code",
   "execution_count": 14,
   "metadata": {},
   "outputs": [
    {
     "data": {
      "text/html": [
       "<div>\n",
       "<style scoped>\n",
       "    .dataframe tbody tr th:only-of-type {\n",
       "        vertical-align: middle;\n",
       "    }\n",
       "\n",
       "    .dataframe tbody tr th {\n",
       "        vertical-align: top;\n",
       "    }\n",
       "\n",
       "    .dataframe thead th {\n",
       "        text-align: right;\n",
       "    }\n",
       "</style>\n",
       "<table border=\"1\" class=\"dataframe\">\n",
       "  <thead>\n",
       "    <tr style=\"text-align: right;\">\n",
       "      <th></th>\n",
       "      <th>id</th>\n",
       "      <th>track_name</th>\n",
       "      <th>size_bytes</th>\n",
       "      <th>price</th>\n",
       "      <th>rating_count_tot</th>\n",
       "      <th>rating_count_ver</th>\n",
       "      <th>user_rating</th>\n",
       "      <th>user_rating_ver</th>\n",
       "      <th>prime_genre</th>\n",
       "    </tr>\n",
       "  </thead>\n",
       "  <tbody>\n",
       "    <tr>\n",
       "      <th>0</th>\n",
       "      <td>281656475</td>\n",
       "      <td>PAC-MAN Premium</td>\n",
       "      <td>100788224</td>\n",
       "      <td>3.99</td>\n",
       "      <td>21292</td>\n",
       "      <td>26</td>\n",
       "      <td>4.0</td>\n",
       "      <td>4.5</td>\n",
       "      <td>Games</td>\n",
       "    </tr>\n",
       "    <tr>\n",
       "      <th>1</th>\n",
       "      <td>281796108</td>\n",
       "      <td>Evernote - stay organized</td>\n",
       "      <td>158578688</td>\n",
       "      <td>0.00</td>\n",
       "      <td>161065</td>\n",
       "      <td>26</td>\n",
       "      <td>4.0</td>\n",
       "      <td>3.5</td>\n",
       "      <td>Productivity</td>\n",
       "    </tr>\n",
       "    <tr>\n",
       "      <th>2</th>\n",
       "      <td>281940292</td>\n",
       "      <td>WeatherBug - Local Weather, Radar, Maps, Alerts</td>\n",
       "      <td>100524032</td>\n",
       "      <td>0.00</td>\n",
       "      <td>188583</td>\n",
       "      <td>2822</td>\n",
       "      <td>3.5</td>\n",
       "      <td>4.5</td>\n",
       "      <td>Weather</td>\n",
       "    </tr>\n",
       "    <tr>\n",
       "      <th>3</th>\n",
       "      <td>282614216</td>\n",
       "      <td>eBay: Best App to Buy, Sell, Save! Online Shop...</td>\n",
       "      <td>128512000</td>\n",
       "      <td>0.00</td>\n",
       "      <td>262241</td>\n",
       "      <td>649</td>\n",
       "      <td>4.0</td>\n",
       "      <td>4.5</td>\n",
       "      <td>Shopping</td>\n",
       "    </tr>\n",
       "    <tr>\n",
       "      <th>4</th>\n",
       "      <td>282935706</td>\n",
       "      <td>Bible</td>\n",
       "      <td>92774400</td>\n",
       "      <td>0.00</td>\n",
       "      <td>985920</td>\n",
       "      <td>5320</td>\n",
       "      <td>4.5</td>\n",
       "      <td>5.0</td>\n",
       "      <td>Reference</td>\n",
       "    </tr>\n",
       "  </tbody>\n",
       "</table>\n",
       "</div>"
      ],
      "text/plain": [
       "          id                                         track_name  size_bytes  \\\n",
       "0  281656475                                    PAC-MAN Premium   100788224   \n",
       "1  281796108                          Evernote - stay organized   158578688   \n",
       "2  281940292    WeatherBug - Local Weather, Radar, Maps, Alerts   100524032   \n",
       "3  282614216  eBay: Best App to Buy, Sell, Save! Online Shop...   128512000   \n",
       "4  282935706                                              Bible    92774400   \n",
       "\n",
       "   price  rating_count_tot  rating_count_ver  user_rating  user_rating_ver  \\\n",
       "0   3.99             21292                26          4.0              4.5   \n",
       "1   0.00            161065                26          4.0              3.5   \n",
       "2   0.00            188583              2822          3.5              4.5   \n",
       "3   0.00            262241               649          4.0              4.5   \n",
       "4   0.00            985920              5320          4.5              5.0   \n",
       "\n",
       "    prime_genre  \n",
       "0         Games  \n",
       "1  Productivity  \n",
       "2       Weather  \n",
       "3      Shopping  \n",
       "4     Reference  "
      ]
     },
     "execution_count": 14,
     "metadata": {},
     "output_type": "execute_result"
    }
   ],
   "source": [
    "data.head()"
   ]
  },
  {
   "cell_type": "markdown",
   "metadata": {},
   "source": [
    "### 5. Print the summary (info) of the data."
   ]
  },
  {
   "cell_type": "code",
   "execution_count": 15,
   "metadata": {},
   "outputs": [
    {
     "name": "stdout",
     "output_type": "stream",
     "text": [
      "<class 'pandas.core.frame.DataFrame'>\n",
      "RangeIndex: 7197 entries, 0 to 7196\n",
      "Data columns (total 9 columns):\n",
      " #   Column            Non-Null Count  Dtype  \n",
      "---  ------            --------------  -----  \n",
      " 0   id                7197 non-null   int64  \n",
      " 1   track_name        7197 non-null   object \n",
      " 2   size_bytes        7197 non-null   int64  \n",
      " 3   price             7197 non-null   float64\n",
      " 4   rating_count_tot  7197 non-null   int64  \n",
      " 5   rating_count_ver  7197 non-null   int64  \n",
      " 6   user_rating       7197 non-null   float64\n",
      " 7   user_rating_ver   7197 non-null   float64\n",
      " 8   prime_genre       7197 non-null   object \n",
      "dtypes: float64(3), int64(4), object(2)\n",
      "memory usage: 506.2+ KB\n"
     ]
    }
   ],
   "source": [
    "data.info()"
   ]
  },
  {
   "cell_type": "code",
   "execution_count": 16,
   "metadata": {},
   "outputs": [
    {
     "name": "stdout",
     "output_type": "stream",
     "text": [
      "<class 'pandas.core.frame.DataFrame'>\n",
      "RangeIndex: 7197 entries, 0 to 7196\n",
      "Data columns (total 9 columns):\n",
      " #   Column            Non-Null Count  Dtype  \n",
      "---  ------            --------------  -----  \n",
      " 0   id                7197 non-null   int64  \n",
      " 1   track_name        7197 non-null   object \n",
      " 2   size_bytes        7197 non-null   int64  \n",
      " 3   price             7197 non-null   float64\n",
      " 4   rating_count_tot  7197 non-null   int64  \n",
      " 5   rating_count_ver  7197 non-null   int64  \n",
      " 6   user_rating       7197 non-null   float64\n",
      " 7   user_rating_ver   7197 non-null   float64\n",
      " 8   prime_genre       7197 non-null   object \n",
      "dtypes: float64(3), int64(4), object(2)\n",
      "memory usage: 1.5 MB\n"
     ]
    }
   ],
   "source": [
    "data.info(memory_usage = 'deep')"
   ]
  },
  {
   "cell_type": "markdown",
   "metadata": {},
   "source": [
    "### 6. Print the number of columns in the data."
   ]
  },
  {
   "cell_type": "code",
   "execution_count": 21,
   "metadata": {},
   "outputs": [
    {
     "data": {
      "text/plain": [
       "9"
      ]
     },
     "execution_count": 21,
     "metadata": {},
     "output_type": "execute_result"
    }
   ],
   "source": [
    "data.shape[1]"
   ]
  },
  {
   "cell_type": "markdown",
   "metadata": {},
   "source": [
    "### 7. Print all column names."
   ]
  },
  {
   "cell_type": "code",
   "execution_count": 30,
   "metadata": {},
   "outputs": [
    {
     "data": {
      "text/plain": [
       "Index(['id', 'track_name', 'size_bytes', 'price', 'rating_count_tot',\n",
       "       'rating_count_ver', 'user_rating', 'user_rating_ver', 'prime_genre'],\n",
       "      dtype='object')"
      ]
     },
     "execution_count": 30,
     "metadata": {},
     "output_type": "execute_result"
    }
   ],
   "source": [
    "data.columns"
   ]
  },
  {
   "cell_type": "markdown",
   "metadata": {},
   "source": [
    "## Now that we have a general understanding of the data, we'll start working on the challenge questions.\n",
    "\n",
    "### 8. How many apps are there in the data source? \n",
    "\n",
    "Print the # of observations of the data.\n",
    "\n",
    "*Hint: Your code should return the number 7197.*"
   ]
  },
  {
   "cell_type": "code",
   "execution_count": 32,
   "metadata": {},
   "outputs": [
    {
     "data": {
      "text/plain": [
       "id                  7197\n",
       "track_name          7197\n",
       "size_bytes          7197\n",
       "price               7197\n",
       "rating_count_tot    7197\n",
       "rating_count_ver    7197\n",
       "user_rating         7197\n",
       "user_rating_ver     7197\n",
       "prime_genre         7197\n",
       "dtype: int64"
      ]
     },
     "execution_count": 32,
     "metadata": {},
     "output_type": "execute_result"
    }
   ],
   "source": [
    "data.count()"
   ]
  },
  {
   "cell_type": "markdown",
   "metadata": {},
   "source": [
    "### 9. What is the average rating of all apps? \n",
    "\n",
    "First, read the `user_rating` column into a varialbe named `user_rating`."
   ]
  },
  {
   "cell_type": "code",
   "execution_count": 35,
   "metadata": {},
   "outputs": [
    {
     "data": {
      "text/plain": [
       "0       4.0\n",
       "1       4.0\n",
       "2       3.5\n",
       "3       4.0\n",
       "4       4.5\n",
       "       ... \n",
       "7192    4.5\n",
       "7193    4.5\n",
       "7194    4.5\n",
       "7195    4.5\n",
       "7196    5.0\n",
       "Name: user_rating, Length: 7197, dtype: float64"
      ]
     },
     "execution_count": 35,
     "metadata": {},
     "output_type": "execute_result"
    }
   ],
   "source": [
    "user_rating = data['user_rating']\n",
    "user_rating"
   ]
  },
  {
   "cell_type": "markdown",
   "metadata": {},
   "source": [
    "Now you can calculate the average of the `user_rating` data.\n",
    "\n",
    "Your code should return 3.526955675976101"
   ]
  },
  {
   "cell_type": "code",
   "execution_count": 37,
   "metadata": {},
   "outputs": [
    {
     "data": {
      "text/plain": [
       "3.526955675976101"
      ]
     },
     "execution_count": 37,
     "metadata": {},
     "output_type": "execute_result"
    }
   ],
   "source": [
    "user_rating.mean()"
   ]
  },
  {
   "cell_type": "markdown",
   "metadata": {},
   "source": [
    "### 10. How many apps have an average rating no less than 4?\n",
    "\n",
    "First, filter `user_rating` where its value >= 4. \n",
    "\n",
    "Assign the filtered dataframe to a new variable called `user_rating_high`."
   ]
  },
  {
   "cell_type": "code",
   "execution_count": 74,
   "metadata": {},
   "outputs": [
    {
     "name": "stdout",
     "output_type": "stream",
     "text": [
      "4781\n"
     ]
    }
   ],
   "source": [
    "user_rating_high = user_rating.apply(lambda x: x >= 4)\n",
    "suma = 0\n",
    "for e in user_rating_high:\n",
    "    if e == True:\n",
    "        suma += 1\n",
    "print(suma)\n",
    "        \n"
   ]
  },
  {
   "cell_type": "code",
   "execution_count": 58,
   "metadata": {},
   "outputs": [
    {
     "data": {
      "text/plain": [
       "7197"
      ]
     },
     "execution_count": 58,
     "metadata": {},
     "output_type": "execute_result"
    }
   ],
   "source": [
    "user_rating.count()"
   ]
  },
  {
   "cell_type": "code",
   "execution_count": 52,
   "metadata": {},
   "outputs": [
    {
     "data": {
      "text/plain": [
       "0       4.0\n",
       "1       4.0\n",
       "2       3.5\n",
       "3       4.0\n",
       "4       4.5\n",
       "       ... \n",
       "7192    4.5\n",
       "7193    4.5\n",
       "7194    4.5\n",
       "7195    4.5\n",
       "7196    5.0\n",
       "Name: user_rating, Length: 7197, dtype: float64"
      ]
     },
     "execution_count": 52,
     "metadata": {},
     "output_type": "execute_result"
    }
   ],
   "source": [
    "user_rating"
   ]
  },
  {
   "cell_type": "markdown",
   "metadata": {},
   "source": [
    "Now obtain the length of `user_rating_high` which should return 4781."
   ]
  },
  {
   "cell_type": "code",
   "execution_count": 69,
   "metadata": {},
   "outputs": [
    {
     "data": {
      "text/plain": [
       "4781"
      ]
     },
     "execution_count": 69,
     "metadata": {},
     "output_type": "execute_result"
    }
   ],
   "source": [
    "suma"
   ]
  },
  {
   "cell_type": "code",
   "execution_count": 71,
   "metadata": {},
   "outputs": [
    {
     "data": {
      "text/plain": [
       "0       False\n",
       "1       False\n",
       "2       False\n",
       "3       False\n",
       "4        True\n",
       "        ...  \n",
       "7192     True\n",
       "7193     True\n",
       "7194     True\n",
       "7195     True\n",
       "7196     True\n",
       "Name: user_rating, Length: 7197, dtype: bool"
      ]
     },
     "execution_count": 71,
     "metadata": {},
     "output_type": "execute_result"
    }
   ],
   "source": [
    "user_rating.apply(lambda x: x >4)"
   ]
  },
  {
   "cell_type": "markdown",
   "metadata": {},
   "source": [
    "### 11. How many genres are there in total for all the apps?\n",
    "\n",
    "Define a new variable named `genres` that contains the `prime_genre` column of `data`. Google for how to obtain unique values of a dataframe column. "
   ]
  },
  {
   "cell_type": "code",
   "execution_count": 88,
   "metadata": {},
   "outputs": [
    {
     "name": "stdout",
     "output_type": "stream",
     "text": [
      "Games\n",
      "Productivity\n",
      "Weather\n",
      "Shopping\n",
      "Reference\n",
      "Finance\n",
      "Music\n",
      "Utilities\n",
      "Travel\n",
      "Social Networking\n",
      "Sports\n",
      "Business\n",
      "Health & Fitness\n",
      "Entertainment\n",
      "Photo & Video\n",
      "Navigation\n",
      "Education\n",
      "Lifestyle\n",
      "Food & Drink\n",
      "News\n",
      "Book\n",
      "Medical\n",
      "Catalogs\n",
      "23\n"
     ]
    }
   ],
   "source": [
    "genres = data['prime_genre']\n",
    "sum2=0\n",
    "for i in genres.unique():\n",
    "    sum2 += 1\n",
    "    print(i)\n",
    "print(sum2)\n",
    "\n"
   ]
  },
  {
   "cell_type": "markdown",
   "metadata": {},
   "source": [
    "Print the length of the unique values of `genres`. Your code should return 23."
   ]
  },
  {
   "cell_type": "code",
   "execution_count": 89,
   "metadata": {},
   "outputs": [
    {
     "data": {
      "text/plain": [
       "23"
      ]
     },
     "execution_count": 89,
     "metadata": {},
     "output_type": "execute_result"
    }
   ],
   "source": [
    "sum2"
   ]
  },
  {
   "cell_type": "markdown",
   "metadata": {},
   "source": [
    "### 12. What are the top 3 genres that have the most number of apps?\n",
    "\n",
    "What you want to do is to count the number of occurrences of each unique genre values. Because you already know how to obtain the unique genre values, you can of course count the # of apps of each genre one by one. However, Pandas has a convient function to let you count all values of a dataframe column with a single command. Google for \"pandas count values\" to find the solution. Your code should return the following:\n",
    "\n",
    "```\n",
    "Games            3862\n",
    "Entertainment     535\n",
    "Education         453\n",
    "Name: prime_genre, dtype: int64\n",
    "```"
   ]
  },
  {
   "cell_type": "code",
   "execution_count": 94,
   "metadata": {},
   "outputs": [
    {
     "data": {
      "text/plain": [
       "Games            3862\n",
       "Entertainment     535\n",
       "Education         453\n",
       "Name: prime_genre, dtype: int64"
      ]
     },
     "execution_count": 94,
     "metadata": {},
     "output_type": "execute_result"
    }
   ],
   "source": [
    "data['prime_genre'].value_counts()[:3]"
   ]
  },
  {
   "cell_type": "markdown",
   "metadata": {},
   "source": [
    "### 13. Which genre is most likely to contain free apps?\n",
    "\n",
    "First, filter `data` where the price is 0.00. Assign the filtered data to a new variable called `free_apps`. Then count the values in `free_apps`. Your code should return:\n",
    "\n",
    "```\n",
    "Games                2257\n",
    "Entertainment         334\n",
    "Photo & Video         167\n",
    "Social Networking     143\n",
    "Education             132\n",
    "Shopping              121\n",
    "Utilities             109\n",
    "Lifestyle              94\n",
    "Finance                84\n",
    "Sports                 79\n",
    "Health & Fitness       76\n",
    "Music                  67\n",
    "Book                   66\n",
    "Productivity           62\n",
    "News                   58\n",
    "Travel                 56\n",
    "Food & Drink           43\n",
    "Weather                31\n",
    "Navigation             20\n",
    "Reference              20\n",
    "Business               20\n",
    "Catalogs                9\n",
    "Medical                 8\n",
    "Name: prime_genre, dtype: int64\n",
    "```"
   ]
  },
  {
   "cell_type": "code",
   "execution_count": 112,
   "metadata": {},
   "outputs": [
    {
     "data": {
      "text/plain": [
       "Games                2257\n",
       "Entertainment         334\n",
       "Photo & Video         167\n",
       "Social Networking     143\n",
       "Education             132\n",
       "Shopping              121\n",
       "Utilities             109\n",
       "Lifestyle              94\n",
       "Finance                84\n",
       "Sports                 79\n",
       "Health & Fitness       76\n",
       "Music                  67\n",
       "Book                   66\n",
       "Productivity           62\n",
       "News                   58\n",
       "Travel                 56\n",
       "Food & Drink           43\n",
       "Weather                31\n",
       "Business               20\n",
       "Reference              20\n",
       "Navigation             20\n",
       "Catalogs                9\n",
       "Medical                 8\n",
       "Name: prime_genre, dtype: int64"
      ]
     },
     "execution_count": 112,
     "metadata": {},
     "output_type": "execute_result"
    }
   ],
   "source": [
    "free_apps = data[data.price<= 0]\n",
    "free_apps['prime_genre'].value_counts()\n"
   ]
  },
  {
   "cell_type": "markdown",
   "metadata": {},
   "source": [
    "### 14. Now you can calculate the proportion of the free apps in each genre based on the value counts you obtained in the previous two steps. \n",
    "\n",
    "Challenge yourself by achieving that with one line of code. The output should look like:\n",
    "\n",
    "```\n",
    "Shopping             0.991803\n",
    "Catalogs             0.900000\n",
    "Social Networking    0.856287\n",
    "Finance              0.807692\n",
    "News                 0.773333\n",
    "Sports               0.692982\n",
    "Travel               0.691358\n",
    "Food & Drink         0.682540\n",
    "Lifestyle            0.652778\n",
    "Entertainment        0.624299\n",
    "Book                 0.589286\n",
    "Games                0.584412\n",
    "Music                0.485507\n",
    "Photo & Video        0.478510\n",
    "Utilities            0.439516\n",
    "Navigation           0.434783\n",
    "Weather              0.430556\n",
    "Health & Fitness     0.422222\n",
    "Business             0.350877\n",
    "Productivity         0.348315\n",
    "Medical              0.347826\n",
    "Reference            0.312500\n",
    "Education            0.291391\n",
    "Name: prime_genre, dtype: float64\n",
    "```\n",
    "\n",
    "The numbers are interesting, aren't they?"
   ]
  },
  {
   "cell_type": "code",
   "execution_count": 124,
   "metadata": {},
   "outputs": [
    {
     "data": {
      "text/plain": [
       "Games                0.952170\n",
       "Entertainment        0.131903\n",
       "Education            0.111686\n",
       "Photo & Video        0.086045\n",
       "Utilities            0.061144\n",
       "Health & Fitness     0.044379\n",
       "Productivity         0.043886\n",
       "Social Networking    0.041174\n",
       "Lifestyle            0.035503\n",
       "Music                0.034024\n",
       "Shopping             0.030079\n",
       "Sports               0.028107\n",
       "Book                 0.027613\n",
       "Finance              0.025641\n",
       "Travel               0.019970\n",
       "News                 0.018491\n",
       "Weather              0.017751\n",
       "Reference            0.015779\n",
       "Food & Drink         0.015533\n",
       "Business             0.014053\n",
       "Navigation           0.011341\n",
       "Medical              0.005671\n",
       "Catalogs             0.002465\n",
       "Name: prime_genre, dtype: float64"
      ]
     },
     "execution_count": 124,
     "metadata": {},
     "output_type": "execute_result"
    }
   ],
   "source": [
    "data['prime_genre'].value_counts()/len(free_apps)"
   ]
  },
  {
   "cell_type": "markdown",
   "metadata": {},
   "source": [
    "### 15. If a developer tries to make money by developing and selling Apple Store apps, in which genre should s/he develop the apps? Please assume all apps cost the same amount of time and expense to develop.\n",
    "\n",
    "We will leave this question to you. There are several way to solve it. Ideally your output should look like below:\n",
    "\n",
    "```\n",
    "    average_price              genre\n",
    "21       8.776087            Medical\n",
    "11       5.116316           Business\n",
    "4        4.836875          Reference\n",
    "6        4.835435              Music\n",
    "1        4.330562       Productivity\n",
    "15       4.124783         Navigation\n",
    "16       4.028234          Education\n",
    "12       1.916444   Health & Fitness\n",
    "20       1.790536               Book\n",
    "7        1.647621          Utilities\n",
    "2        1.605417            Weather\n",
    "18       1.552381       Food & Drink\n",
    "14       1.473295      Photo & Video\n",
    "0        1.432923              Games\n",
    "8        1.120370             Travel\n",
    "10       0.953070             Sports\n",
    "13       0.889701      Entertainment\n",
    "17       0.885417          Lifestyle\n",
    "22       0.799000           Catalogs\n",
    "19       0.517733               News\n",
    "5        0.421154            Finance\n",
    "9        0.339880  Social Networking\n",
    "3        0.016311           Shopping\n",
    "```"
   ]
  },
  {
   "cell_type": "code",
   "execution_count": 146,
   "metadata": {},
   "outputs": [
    {
     "data": {
      "text/html": [
       "<div>\n",
       "<style scoped>\n",
       "    .dataframe tbody tr th:only-of-type {\n",
       "        vertical-align: middle;\n",
       "    }\n",
       "\n",
       "    .dataframe tbody tr th {\n",
       "        vertical-align: top;\n",
       "    }\n",
       "\n",
       "    .dataframe thead tr th {\n",
       "        text-align: left;\n",
       "    }\n",
       "\n",
       "    .dataframe thead tr:last-of-type th {\n",
       "        text-align: right;\n",
       "    }\n",
       "</style>\n",
       "<table border=\"1\" class=\"dataframe\">\n",
       "  <thead>\n",
       "    <tr>\n",
       "      <th></th>\n",
       "      <th>mean</th>\n",
       "    </tr>\n",
       "    <tr>\n",
       "      <th></th>\n",
       "      <th>price</th>\n",
       "    </tr>\n",
       "    <tr>\n",
       "      <th>prime_genre</th>\n",
       "      <th></th>\n",
       "    </tr>\n",
       "  </thead>\n",
       "  <tbody>\n",
       "    <tr>\n",
       "      <th>Book</th>\n",
       "      <td>1.790536</td>\n",
       "    </tr>\n",
       "    <tr>\n",
       "      <th>Business</th>\n",
       "      <td>5.116316</td>\n",
       "    </tr>\n",
       "    <tr>\n",
       "      <th>Catalogs</th>\n",
       "      <td>0.799000</td>\n",
       "    </tr>\n",
       "    <tr>\n",
       "      <th>Education</th>\n",
       "      <td>4.028234</td>\n",
       "    </tr>\n",
       "    <tr>\n",
       "      <th>Entertainment</th>\n",
       "      <td>0.889701</td>\n",
       "    </tr>\n",
       "    <tr>\n",
       "      <th>Finance</th>\n",
       "      <td>0.421154</td>\n",
       "    </tr>\n",
       "    <tr>\n",
       "      <th>Food &amp; Drink</th>\n",
       "      <td>1.552381</td>\n",
       "    </tr>\n",
       "    <tr>\n",
       "      <th>Games</th>\n",
       "      <td>1.432923</td>\n",
       "    </tr>\n",
       "    <tr>\n",
       "      <th>Health &amp; Fitness</th>\n",
       "      <td>1.916444</td>\n",
       "    </tr>\n",
       "    <tr>\n",
       "      <th>Lifestyle</th>\n",
       "      <td>0.885417</td>\n",
       "    </tr>\n",
       "    <tr>\n",
       "      <th>Medical</th>\n",
       "      <td>8.776087</td>\n",
       "    </tr>\n",
       "    <tr>\n",
       "      <th>Music</th>\n",
       "      <td>4.835435</td>\n",
       "    </tr>\n",
       "    <tr>\n",
       "      <th>Navigation</th>\n",
       "      <td>4.124783</td>\n",
       "    </tr>\n",
       "    <tr>\n",
       "      <th>News</th>\n",
       "      <td>0.517733</td>\n",
       "    </tr>\n",
       "    <tr>\n",
       "      <th>Photo &amp; Video</th>\n",
       "      <td>1.473295</td>\n",
       "    </tr>\n",
       "    <tr>\n",
       "      <th>Productivity</th>\n",
       "      <td>4.330562</td>\n",
       "    </tr>\n",
       "    <tr>\n",
       "      <th>Reference</th>\n",
       "      <td>4.836875</td>\n",
       "    </tr>\n",
       "    <tr>\n",
       "      <th>Shopping</th>\n",
       "      <td>0.016311</td>\n",
       "    </tr>\n",
       "    <tr>\n",
       "      <th>Social Networking</th>\n",
       "      <td>0.339880</td>\n",
       "    </tr>\n",
       "    <tr>\n",
       "      <th>Sports</th>\n",
       "      <td>0.953070</td>\n",
       "    </tr>\n",
       "    <tr>\n",
       "      <th>Travel</th>\n",
       "      <td>1.120370</td>\n",
       "    </tr>\n",
       "    <tr>\n",
       "      <th>Utilities</th>\n",
       "      <td>1.647621</td>\n",
       "    </tr>\n",
       "    <tr>\n",
       "      <th>Weather</th>\n",
       "      <td>1.605417</td>\n",
       "    </tr>\n",
       "  </tbody>\n",
       "</table>\n",
       "</div>"
      ],
      "text/plain": [
       "                       mean\n",
       "                      price\n",
       "prime_genre                \n",
       "Book               1.790536\n",
       "Business           5.116316\n",
       "Catalogs           0.799000\n",
       "Education          4.028234\n",
       "Entertainment      0.889701\n",
       "Finance            0.421154\n",
       "Food & Drink       1.552381\n",
       "Games              1.432923\n",
       "Health & Fitness   1.916444\n",
       "Lifestyle          0.885417\n",
       "Medical            8.776087\n",
       "Music              4.835435\n",
       "Navigation         4.124783\n",
       "News               0.517733\n",
       "Photo & Video      1.473295\n",
       "Productivity       4.330562\n",
       "Reference          4.836875\n",
       "Shopping           0.016311\n",
       "Social Networking  0.339880\n",
       "Sports             0.953070\n",
       "Travel             1.120370\n",
       "Utilities          1.647621\n",
       "Weather            1.605417"
      ]
     },
     "execution_count": 146,
     "metadata": {},
     "output_type": "execute_result"
    }
   ],
   "source": [
    "x2 = data[['prime_genre','price']]\n",
    "x2.pivot_table(index= ['prime_genre'], aggfunc = ['mean'])\n",
    "\n",
    "\n"
   ]
  },
  {
   "cell_type": "code",
   "execution_count": null,
   "metadata": {},
   "outputs": [],
   "source": []
  }
 ],
 "metadata": {
  "kernelspec": {
   "display_name": "Python 3 (ipykernel)",
   "language": "python",
   "name": "python3"
  },
  "language_info": {
   "codemirror_mode": {
    "name": "ipython",
    "version": 3
   },
   "file_extension": ".py",
   "mimetype": "text/x-python",
   "name": "python",
   "nbconvert_exporter": "python",
   "pygments_lexer": "ipython3",
   "version": "3.9.7"
  }
 },
 "nbformat": 4,
 "nbformat_minor": 2
}
